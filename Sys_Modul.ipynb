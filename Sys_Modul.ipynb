{
  "nbformat": 4,
  "nbformat_minor": 0,
  "metadata": {
    "colab": {
      "name": "Sys Modul.ipynb",
      "provenance": []
    },
    "kernelspec": {
      "name": "python3",
      "display_name": "Python 3"
    },
    "language_info": {
      "name": "python"
    }
  },
  "cells": [
    {
      "cell_type": "markdown",
      "source": [
        "**Sys**\n",
        "\n",
        "The sys module in Python provides various functions and variables that are used to manipulate different parts of the Python runtime environment. It allows operating on the interpreter as it provides access to the variables and functions that interact strongly with the interpreter."
      ],
      "metadata": {
        "id": "jj2CesmQOnBo"
      }
    },
    {
      "cell_type": "code",
      "execution_count": 1,
      "metadata": {
        "colab": {
          "base_uri": "https://localhost:8080/"
        },
        "id": "5yZELJerOlmz",
        "outputId": "cf7f9ec6-eed5-46cb-d391-ce81e0da6591"
      },
      "outputs": [
        {
          "output_type": "stream",
          "name": "stdout",
          "text": [
            "The Input : 0\n",
            "You get 0\n",
            "The Input : 1\n",
            "You get 1\n",
            "The Input : abc\n",
            "The Error <class 'ValueError'>\n",
            "The Input : exit\n",
            "The Error <class 'ValueError'>\n"
          ]
        }
      ],
      "source": [
        "import sys\n",
        "\n",
        "n = 0\n",
        "\n",
        "while(n != \"exit\"):\n",
        "    try:\n",
        "        n = (input(\"The Input : \"))\n",
        "        print(f\"You get {int(n)}\")\n",
        "    except:\n",
        "        if n == \"z\":\n",
        "            pass\n",
        "        else:\n",
        "            print(\"The Error {}\".format(sys.exc_info()[0]))"
      ]
    }
  ]
}