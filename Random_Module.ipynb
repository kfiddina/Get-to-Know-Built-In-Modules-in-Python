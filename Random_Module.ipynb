{
  "nbformat": 4,
  "nbformat_minor": 0,
  "metadata": {
    "colab": {
      "name": "Random Module.ipynb",
      "provenance": [],
      "collapsed_sections": []
    },
    "kernelspec": {
      "name": "python3",
      "display_name": "Python 3"
    },
    "language_info": {
      "name": "python"
    }
  },
  "cells": [
    {
      "cell_type": "markdown",
      "source": [
        "#Random Module"
      ],
      "metadata": {
        "id": "YW42mY5YHNPB"
      }
    },
    {
      "cell_type": "markdown",
      "source": [
        "This module implements pseudo-random number generators for various distributions."
      ],
      "metadata": {
        "id": "mtK22I8QHLzB"
      }
    },
    {
      "cell_type": "code",
      "source": [
        "from random import randint"
      ],
      "metadata": {
        "id": "ec8Q8xwCGYEz"
      },
      "execution_count": 3,
      "outputs": []
    },
    {
      "cell_type": "code",
      "execution_count": 4,
      "metadata": {
        "colab": {
          "base_uri": "https://localhost:8080/"
        },
        "id": "78IKvqRfFq8J",
        "outputId": "3a3cc238-386a-48b5-dae8-383781d5ebfc"
      },
      "outputs": [
        {
          "output_type": "stream",
          "name": "stdout",
          "text": [
            "random num 0 is 48\n",
            "random num 1 is 2\n",
            "random num 2 is 65\n",
            "random num 3 is 65\n",
            "random num 4 is 65\n",
            "random num 5 is 94\n",
            "random num 6 is 68\n",
            "random num 7 is 65\n",
            "random num 8 is 44\n",
            "random num 9 is 16\n"
          ]
        }
      ],
      "source": [
        "#Return a random integer N such that a <= N <= b. Alias for randrange(a, b+1).\n",
        "for i in range(10):\n",
        "  print(f\"random num {i} is {randint(1,100)}\")"
      ]
    }
  ]
}