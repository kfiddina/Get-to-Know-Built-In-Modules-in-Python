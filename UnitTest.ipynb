{
  "nbformat": 4,
  "nbformat_minor": 0,
  "metadata": {
    "colab": {
      "name": "UnitTest.ipynb",
      "provenance": []
    },
    "kernelspec": {
      "name": "python3",
      "display_name": "Python 3"
    },
    "language_info": {
      "name": "python"
    }
  },
  "cells": [
    {
      "cell_type": "markdown",
      "source": [
        "The Python standard library includes the unittest module to help write and run tests for your Python code.\n",
        "\n",
        "Tests written using the unittest module can help to find bugs in the programs, and prevent regressions from occurring when code change over time."
      ],
      "metadata": {
        "id": "uw7xXAwgPIYy"
      }
    },
    {
      "cell_type": "code",
      "execution_count": 1,
      "metadata": {
        "id": "EGa4R35jPFnc"
      },
      "outputs": [],
      "source": [
        "\n",
        "import unittest\n",
        "\n",
        "def add_food_to_cage(food_list):\n",
        "    if len(food_list) > 10:\n",
        "        raise ValueError(\"A maximum of 10 food can be added to the cage\")\n",
        "    return {\"tank_a\": food_list}\n",
        "\n",
        "\n",
        "class TestAddFoodToCage(unittest.TestCase):\n",
        "    def test_add_food_to_cage_success(self):\n",
        "        actual = add_food_to_cage(food_list=[\"grass\", \"leaf\"])\n",
        "        expected = {\"tank_a\": [\"grass\", \"leaf\"]}\n",
        "        self.assertEqual(actual, expected)"
      ]
    },
    {
      "cell_type": "markdown",
      "source": [
        "The unittest module ran our test and told us that our test ran OK. The single . on the first line of the output represents our passed test."
      ],
      "metadata": {
        "id": "L7PQW5BsPYUJ"
      }
    }
  ]
}