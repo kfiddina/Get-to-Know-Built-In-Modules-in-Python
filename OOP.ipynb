{
  "nbformat": 4,
  "nbformat_minor": 0,
  "metadata": {
    "colab": {
      "name": "OOP.ipynb",
      "provenance": []
    },
    "kernelspec": {
      "name": "python3",
      "display_name": "Python 3"
    },
    "language_info": {
      "name": "python"
    }
  },
  "cells": [
    {
      "cell_type": "markdown",
      "source": [
        "Object-oriented programming (OOP) is a programming paradigm based on the concept of \"objects\". An object-oriented paradigm is to design the program using classes and objects. Python programming language supports different programming approaches like functional programming, modular programming. One of the popular approaches is object-oriented programming (OOP) to solve a programming problem is by creating objects."
      ],
      "metadata": {
        "id": "VjJmcCBAPj27"
      }
    },
    {
      "cell_type": "code",
      "execution_count": 1,
      "metadata": {
        "colab": {
          "base_uri": "https://localhost:8080/"
        },
        "id": "xZgQD2NvPf7s",
        "outputId": "4d7e2e7b-1cfa-44de-f38a-e4d3960ac568"
      },
      "outputs": [
        {
          "output_type": "stream",
          "name": "stdout",
          "text": [
            "Player: Messi 12000 Paris Saint German\n",
            "Player: Neymar 11000 Paris Saint German\n"
          ]
        }
      ],
      "source": [
        "class FootballPlayer:\n",
        "    # class variables\n",
        "    club_name = 'Paris Saint German'\n",
        "\n",
        "    # constructor to initialize the object\n",
        "    def __init__(self, name, salary):\n",
        "        # instance variables\n",
        "        self.name = name\n",
        "        self.salary = salary\n",
        "\n",
        "    # instance method\n",
        "    def show(self):\n",
        "        print('Player:', self.name, self.salary, self.club_name)\n",
        "\n",
        "# create first object\n",
        "play1 = FootballPlayer(\"Messi\", 12000)\n",
        "play1.show()\n",
        "\n",
        "# create second object\n",
        "play2 = FootballPlayer('Neymar', 11000)\n",
        "play2.show()"
      ]
    },
    {
      "cell_type": "markdown",
      "source": [
        "In the above example, we created a Class with the name Employee.\n",
        "<br>\n",
        "Next, we defined two attributes name and salary.\n",
        "<br>\n",
        "Next, in the __init__() method, we initialized the value of attributes. This method is called as soon as the object is created. The init method initializes the object.\n",
        "<br>\n",
        "Finally, from the FootballPlayer class, we created two objects, Messi and Neymar.\n",
        "<br>\n",
        "Using the object, we can access and modify its attributes."
      ],
      "metadata": {
        "id": "ZK226Zx6Ptvs"
      }
    }
  ]
}