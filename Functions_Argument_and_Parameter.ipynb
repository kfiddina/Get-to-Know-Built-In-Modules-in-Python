{
  "nbformat": 4,
  "nbformat_minor": 0,
  "metadata": {
    "colab": {
      "name": "Functions - Argument and Parameter.ipynb",
      "provenance": []
    },
    "kernelspec": {
      "name": "python3",
      "display_name": "Python 3"
    },
    "language_info": {
      "name": "python"
    }
  },
  "cells": [
    {
      "cell_type": "markdown",
      "source": [
        "This notebook is created by **Sintaks Group**, with the following members:\n",
        "1. Hasballah Askar\n",
        "2. Galang Setia Nugroho\n",
        "3. Khalishah Fiddina\n",
        "4. Tifani Amalina\n",
        "5. Muhammad Ilham Hakiqi"
      ],
      "metadata": {
        "id": "3Q3eeozlvccZ"
      }
    },
    {
      "cell_type": "markdown",
      "source": [
        "## **Functions - Argument and Parameter**\n",
        "In this notebook, we will show you about Argument and Parameter of Functions in Python. <br>\n",
        "Working with function, we can **pass information into a function** itself, specified after the function name, inside the parenthesis. And the terms used for that are **Argument** and **Parameter**."
      ],
      "metadata": {
        "id": "rA9xfjWp3GDK"
      }
    },
    {
      "cell_type": "markdown",
      "source": [
        "### **1. Argument**\n",
        "An **argument** is the value that is sent to the function when it is called.\n",
        "\n",
        "There are 2 argument types in Python:"
      ],
      "metadata": {
        "id": "-ljKsGRhSpsY"
      }
    },
    {
      "cell_type": "markdown",
      "source": [
        "#### **_a) Keyword Argument_**\n",
        "Keyword Argument means that a function argument has an identifier or a name label."
      ],
      "metadata": {
        "id": "d6XgTv85T0sJ"
      }
    },
    {
      "cell_type": "code",
      "source": [
        "def intro(name, age, city):\n",
        "  introduction = \"Hello, my name is {}!, I'm {} years old and I live in {}\".format(name, age, city)\n",
        "  return introduction"
      ],
      "metadata": {
        "id": "KjniKLcynUMp"
      },
      "execution_count": 1,
      "outputs": []
    },
    {
      "cell_type": "markdown",
      "source": [
        "Passing arguments as keyword arguments means order doesn't matter."
      ],
      "metadata": {
        "id": "jQzs0VO-YBT8"
      }
    },
    {
      "cell_type": "code",
      "source": [
        "intro(age = 20, city = 'Jakarta', name = 'Jane Doe')"
      ],
      "metadata": {
        "colab": {
          "base_uri": "https://localhost:8080/",
          "height": 35
        },
        "id": "KvArNlM-Xc-N",
        "outputId": "44318b55-f6a0-4da0-9cc8-05ee0ee26f0d"
      },
      "execution_count": 2,
      "outputs": [
        {
          "output_type": "execute_result",
          "data": {
            "text/plain": [
              "\"Hello, my name is Jane Doe!, I'm 20 years old and I live in Jakarta\""
            ],
            "application/vnd.google.colaboratory.intrinsic+json": {
              "type": "string"
            }
          },
          "metadata": {},
          "execution_count": 2
        }
      ]
    },
    {
      "cell_type": "markdown",
      "source": [
        "You can also pass a dictionary as an argument to a function precedeed by double stars ( \\*\\* )."
      ],
      "metadata": {
        "id": "lRT_cXfnYCiW"
      }
    },
    {
      "cell_type": "code",
      "source": [
        "intro(**{'age': 20, 'city': 'Jakarta', 'name': 'Jane Doe'})"
      ],
      "metadata": {
        "colab": {
          "base_uri": "https://localhost:8080/",
          "height": 35
        },
        "id": "pseJupT8ahxr",
        "outputId": "eae66a37-be00-4675-b951-f2afb1cdeffb"
      },
      "execution_count": 3,
      "outputs": [
        {
          "output_type": "execute_result",
          "data": {
            "text/plain": [
              "\"Hello, my name is Jane Doe!, I'm 20 years old and I live in Jakarta\""
            ],
            "application/vnd.google.colaboratory.intrinsic+json": {
              "type": "string"
            }
          },
          "metadata": {},
          "execution_count": 3
        }
      ]
    },
    {
      "cell_type": "markdown",
      "source": [
        "#### **_b) Positional Argument_**\n",
        "Positional Argument means that a function argument must be provided in a correct position in a function call."
      ],
      "metadata": {
        "id": "PTQUlI95a2ba"
      }
    },
    {
      "cell_type": "code",
      "source": [
        "def intro(name, age, city):\n",
        "  introduction = \"Hello, my name is {}!, I'm {} years old and I live in {}\".format(name, age, city)\n",
        "  return introduction"
      ],
      "metadata": {
        "id": "AXKKiHRnbKCW"
      },
      "execution_count": 4,
      "outputs": []
    },
    {
      "cell_type": "markdown",
      "source": [
        "Passing arguments as positional argument means identifier isn't needed."
      ],
      "metadata": {
        "id": "LX0jzro-bOpQ"
      }
    },
    {
      "cell_type": "code",
      "source": [
        "intro('Jane Doe', 20, 'Jakarta')"
      ],
      "metadata": {
        "colab": {
          "base_uri": "https://localhost:8080/",
          "height": 35
        },
        "id": "6q-yUq71bc_-",
        "outputId": "62add480-85e4-4850-db22-b0b12bedd476"
      },
      "execution_count": 5,
      "outputs": [
        {
          "output_type": "execute_result",
          "data": {
            "text/plain": [
              "\"Hello, my name is Jane Doe!, I'm 20 years old and I live in Jakarta\""
            ],
            "application/vnd.google.colaboratory.intrinsic+json": {
              "type": "string"
            }
          },
          "metadata": {},
          "execution_count": 5
        }
      ]
    },
    {
      "cell_type": "markdown",
      "source": [
        "Dont forget! **It must be in the correct order!**"
      ],
      "metadata": {
        "id": "deY7U5VhbjGC"
      }
    },
    {
      "cell_type": "code",
      "source": [
        "intro(20, 'Jakarta', 'Jane Doe')"
      ],
      "metadata": {
        "colab": {
          "base_uri": "https://localhost:8080/",
          "height": 35
        },
        "id": "ncBUSh0dbxlG",
        "outputId": "5300edfe-8210-4e9a-8166-325f90c9151c"
      },
      "execution_count": 6,
      "outputs": [
        {
          "output_type": "execute_result",
          "data": {
            "text/plain": [
              "\"Hello, my name is 20!, I'm Jakarta years old and I live in Jane Doe\""
            ],
            "application/vnd.google.colaboratory.intrinsic+json": {
              "type": "string"
            }
          },
          "metadata": {},
          "execution_count": 6
        }
      ]
    },
    {
      "cell_type": "markdown",
      "source": [
        "Passing elements of an iterable preceded by a single star (*)."
      ],
      "metadata": {
        "id": "Hxsa5Y7Tb_G6"
      }
    },
    {
      "cell_type": "code",
      "source": [
        "intro(*('Jane Doe', 20, 'Jakarta'))"
      ],
      "metadata": {
        "colab": {
          "base_uri": "https://localhost:8080/",
          "height": 35
        },
        "id": "eYPz9NsTcZdu",
        "outputId": "12ac0f50-8982-40da-8a0f-2db4005374a8"
      },
      "execution_count": 7,
      "outputs": [
        {
          "output_type": "execute_result",
          "data": {
            "text/plain": [
              "\"Hello, my name is Jane Doe!, I'm 20 years old and I live in Jakarta\""
            ],
            "application/vnd.google.colaboratory.intrinsic+json": {
              "type": "string"
            }
          },
          "metadata": {},
          "execution_count": 7
        }
      ]
    },
    {
      "cell_type": "markdown",
      "source": [
        "### **2. Parameter**\n",
        "A **parameter** is the value listed inside the parentheses in the function definition.\n",
        "\n",
        "According to Python Documentation, there are 5 kinds of parameter:"
      ],
      "metadata": {
        "id": "aAwqwpDuS_QR"
      }
    },
    {
      "cell_type": "markdown",
      "source": [
        "**a) positional-or-keyword**\n",
        "It specifies an argument that can be passed either positionally or as a keyword argument. This is the default kind of parameter, for example:"
      ],
      "metadata": {
        "id": "CkMj_hu9dZ1N"
      }
    },
    {
      "cell_type": "markdown",
      "source": [
        "**b) positional-only**\n",
        "It specifies an argument that can be supplied only by position. Positional-only parameters can be defined by including a ```/``` character in the parameter list of the function definition after them, for example:"
      ],
      "metadata": {
        "id": "vkRRe8A-du73"
      }
    },
    {
      "cell_type": "markdown",
      "source": [
        "**c) keyword-only**\n",
        "It specifies an argument that can be supplied only by keyword. Keyword-only parameters can be defined by including a single var-positional parameter or bare ```*``` in the parameter list of the function definition before them, for example:"
      ],
      "metadata": {
        "id": "XyaZ5saLdvhR"
      }
    },
    {
      "cell_type": "markdown",
      "source": [
        "**d) var-positional**\n",
        "It specifies that an arbitrary sequence of positional arguments can be provided (in addition to any positional arguments already accepted by other parameters). Such a parameter can be defined by prepending the parameter name with ```*```, for example:"
      ],
      "metadata": {
        "id": "rCVyjIKtdvrQ"
      }
    },
    {
      "cell_type": "markdown",
      "source": [
        "**e) var-keyword**\n",
        "It specifies that arbitrarily many keyword arguments can be provided (in addition to any keyword arguments already accepted by other parameters). Such a parameter can be defined by prepending the parameter name with ```**```, for example ```kwargs``` in the example above."
      ],
      "metadata": {
        "id": "wc9ojsOXdvzq"
      }
    },
    {
      "cell_type": "markdown",
      "source": [
        "Take a look at the example below."
      ],
      "metadata": {
        "id": "AwEvG2EbfjTo"
      }
    },
    {
      "cell_type": "code",
      "source": [
        "def info(*arg, **key_dict):\n",
        "  for i in arg:\n",
        "    print(\"Argument in position {}\".format(i))\n",
        "  for key, value in key_dict.items():\n",
        "    print(\"Argumen with keyword {}: {}\".format(key, value))"
      ],
      "metadata": {
        "id": "JRqPPXjsfmKF"
      },
      "execution_count": 8,
      "outputs": []
    },
    {
      "cell_type": "code",
      "source": [
        "info(1, name='Jane Doe', age=20)"
      ],
      "metadata": {
        "colab": {
          "base_uri": "https://localhost:8080/"
        },
        "id": "KiRZrK_Mf_-9",
        "outputId": "253462b1-3a0a-4216-fd2c-e58099b6638e"
      },
      "execution_count": 9,
      "outputs": [
        {
          "output_type": "stream",
          "name": "stdout",
          "text": [
            "Argument in position 1\n",
            "Argumen with keyword name: Jane Doe\n",
            "Argumen with keyword age: 20\n"
          ]
        }
      ]
    },
    {
      "cell_type": "markdown",
      "source": [
        "## Anonymous Function\n",
        "An **Anonymous Function** is a function that is defined without a name. Unlike normal functions, anonymous functions are defined using the ```lambda``` keyword instead of ```def``` keyword. Therefore, anonymous functions are also called lambda functions."
      ],
      "metadata": {
        "id": "0txBHyujgPro"
      }
    },
    {
      "cell_type": "markdown",
      "source": [
        "For example ```power``` in the following:"
      ],
      "metadata": {
        "id": "3chs5ShkhFKP"
      }
    },
    {
      "cell_type": "code",
      "source": [
        "power = lambda number: number**2\n",
        "\n",
        "print(power(4))"
      ],
      "metadata": {
        "colab": {
          "base_uri": "https://localhost:8080/"
        },
        "id": "oBk84RhhhSLy",
        "outputId": "4d8fb0f9-d287-452f-a48b-fed0e6bb3fcf"
      },
      "execution_count": 13,
      "outputs": [
        {
          "output_type": "stream",
          "name": "stdout",
          "text": [
            "16\n"
          ]
        }
      ]
    },
    {
      "cell_type": "markdown",
      "source": [
        "An anonymous function can take any number of arguments, but can only have one expression. Take a look at the example ```add``` below:"
      ],
      "metadata": {
        "id": "-vHY8n0jhrY9"
      }
    },
    {
      "cell_type": "code",
      "source": [
        "add = lambda number1, number2: number1 + number2\n",
        "\n",
        "print(add(4, 2))"
      ],
      "metadata": {
        "colab": {
          "base_uri": "https://localhost:8080/"
        },
        "id": "xKQ-_QbahpVW",
        "outputId": "21384cba-468c-4471-dbcc-d6929dd5f2ee"
      },
      "execution_count": 15,
      "outputs": [
        {
          "output_type": "stream",
          "name": "stdout",
          "text": [
            "6\n"
          ]
        }
      ]
    }
  ]
}