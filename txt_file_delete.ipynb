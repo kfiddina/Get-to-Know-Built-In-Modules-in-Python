{
  "nbformat": 4,
  "nbformat_minor": 0,
  "metadata": {
    "colab": {
      "name": "txt file - delete.ipynb",
      "provenance": []
    },
    "kernelspec": {
      "name": "python3",
      "display_name": "Python 3"
    },
    "language_info": {
      "name": "python"
    }
  },
  "cells": [
    {
      "cell_type": "markdown",
      "source": [
        "This notebook is created by **Sintaks Group**, with the following members:\n",
        "1. Hasballah Askar\n",
        "2. Galang Setia Nugroho\n",
        "3. Khalishah Fiddina\n",
        "4. Tifani Amalina\n",
        "5. Muhammad Ilham Hakiqi"
      ],
      "metadata": {
        "id": "3Q3eeozlvccZ"
      }
    },
    {
      "cell_type": "markdown",
      "source": [
        "## **Delete a txt File**\n",
        "In this notebook, we will show you how to delete a txt file in Python. "
      ],
      "metadata": {
        "id": "rA9xfjWp3GDK"
      }
    },
    {
      "cell_type": "markdown",
      "source": [
        "In this practice of deleting a txt file in Python, we need to use **os** module."
      ],
      "metadata": {
        "id": "QsK5GwHw8mFA"
      }
    },
    {
      "cell_type": "code",
      "execution_count": null,
      "metadata": {
        "id": "50IlFwkR8HOq"
      },
      "outputs": [],
      "source": [
        "import os"
      ]
    },
    {
      "cell_type": "markdown",
      "source": [
        "Practically, to delete a txt file, we can simply execute the syntax below."
      ],
      "metadata": {
        "id": "vNLdeet4-oTK"
      }
    },
    {
      "cell_type": "code",
      "source": [
        "fileName = 'log.txt'\n",
        "os.remove(fileName)"
      ],
      "metadata": {
        "colab": {
          "base_uri": "https://localhost:8080/",
          "height": 189
        },
        "id": "3VQ6KDLR-9YK",
        "outputId": "97809537-41bb-4516-bab7-5851b5b58a96"
      },
      "execution_count": null,
      "outputs": [
        {
          "output_type": "error",
          "ename": "FileNotFoundError",
          "evalue": "ignored",
          "traceback": [
            "\u001b[0;31m---------------------------------------------------------------------------\u001b[0m",
            "\u001b[0;31mFileNotFoundError\u001b[0m                         Traceback (most recent call last)",
            "\u001b[0;32m<ipython-input-2-d698a21f7dec>\u001b[0m in \u001b[0;36m<module>\u001b[0;34m()\u001b[0m\n\u001b[1;32m      1\u001b[0m \u001b[0mfileName\u001b[0m \u001b[0;34m=\u001b[0m \u001b[0;34m'log.txt'\u001b[0m\u001b[0;34m\u001b[0m\u001b[0;34m\u001b[0m\u001b[0m\n\u001b[0;32m----> 2\u001b[0;31m \u001b[0mos\u001b[0m\u001b[0;34m.\u001b[0m\u001b[0mremove\u001b[0m\u001b[0;34m(\u001b[0m\u001b[0mfileName\u001b[0m\u001b[0;34m)\u001b[0m\u001b[0;34m\u001b[0m\u001b[0;34m\u001b[0m\u001b[0m\n\u001b[0m",
            "\u001b[0;31mFileNotFoundError\u001b[0m: [Errno 2] No such file or directory: 'log.txt'"
          ]
        }
      ]
    },
    {
      "cell_type": "markdown",
      "source": [
        "But, it might return ```FileNotFoundError``` exception if the file doesn't exist in your directory.<br>\n",
        "We can use ```os.path.isfile()``` method to check whether the specified path is an existing regular file or not."
      ],
      "metadata": {
        "id": "0mEtuatK_EsP"
      }
    },
    {
      "cell_type": "code",
      "source": [
        "fileName = 'log.txt'\n",
        "os.path.isfile(fileName)"
      ],
      "metadata": {
        "colab": {
          "base_uri": "https://localhost:8080/"
        },
        "id": "Dj76tJChAkNa",
        "outputId": "9c9b7121-6d93-4b7f-9735-5572b43fe35a"
      },
      "execution_count": null,
      "outputs": [
        {
          "output_type": "execute_result",
          "data": {
            "text/plain": [
              "False"
            ]
          },
          "metadata": {},
          "execution_count": 7
        }
      ]
    },
    {
      "cell_type": "markdown",
      "source": [
        "Now, we can safely delete a txt file. Use if-else statements to check the specified file's existence."
      ],
      "metadata": {
        "id": "B4n6k8HrAqtn"
      }
    },
    {
      "cell_type": "code",
      "source": [
        "fileName = 'log.txt'\n",
        "if os.path.isfile(fileName):\n",
        "  # this code will delete the specified file \n",
        "  os.remove(fileName)\n",
        "  print(f\"{fileName} file has been removed\")\n",
        "else:\n",
        "  # the specified file doesn't exist, it returns a message\n",
        "  print(f\"There was no {fileName} file to remove\")"
      ],
      "metadata": {
        "colab": {
          "base_uri": "https://localhost:8080/"
        },
        "id": "1fneW85N9qQe",
        "outputId": "945d69e7-c4b2-474c-99af-46968dab93fe"
      },
      "execution_count": null,
      "outputs": [
        {
          "output_type": "stream",
          "name": "stdout",
          "text": [
            "log.txt file has been removed\n"
          ]
        }
      ]
    }
  ]
}