{
  "nbformat": 4,
  "nbformat_minor": 0,
  "metadata": {
    "colab": {
      "name": "Math Module.ipynb",
      "provenance": [],
      "collapsed_sections": []
    },
    "kernelspec": {
      "name": "python3",
      "display_name": "Python 3"
    },
    "language_info": {
      "name": "python"
    }
  },
  "cells": [
    {
      "cell_type": "markdown",
      "source": [
        "#Math Module"
      ],
      "metadata": {
        "id": "Fzl5hqRBDXN_"
      }
    },
    {
      "cell_type": "markdown",
      "source": [
        "This module provides access to the mathematical functions defined by the C standard."
      ],
      "metadata": {
        "id": "vwfIs4oaDdL2"
      }
    },
    {
      "cell_type": "code",
      "execution_count": null,
      "metadata": {
        "id": "StlnQwD8DK42"
      },
      "outputs": [],
      "source": [
        "import math"
      ]
    },
    {
      "cell_type": "code",
      "source": [
        "#Return the cosine of x radians.\n",
        "cos = math.cos(0)\n",
        "print(cos)"
      ],
      "metadata": {
        "colab": {
          "base_uri": "https://localhost:8080/"
        },
        "id": "3d3u5DH-DagR",
        "outputId": "5f8e817f-4f95-47c9-dd48-2eb6f875851a"
      },
      "execution_count": null,
      "outputs": [
        {
          "output_type": "stream",
          "name": "stdout",
          "text": [
            "1.0\n"
          ]
        }
      ]
    },
    {
      "cell_type": "code",
      "source": [
        "#Return the sine of x radians.\n",
        "sin = math.sin(90)\n",
        "print(sin)"
      ],
      "metadata": {
        "colab": {
          "base_uri": "https://localhost:8080/"
        },
        "id": "gBk92LlZFELQ",
        "outputId": "dcc1e8e9-a16f-4622-930b-53d1e68bbb92"
      },
      "execution_count": null,
      "outputs": [
        {
          "output_type": "stream",
          "name": "stdout",
          "text": [
            "0.8939966636005579\n"
          ]
        }
      ]
    },
    {
      "cell_type": "code",
      "source": [
        "#Return the tangent of x radians.\n",
        "tan = math.tan(45)\n",
        "print(tan)"
      ],
      "metadata": {
        "colab": {
          "base_uri": "https://localhost:8080/"
        },
        "id": "okPi0q0RFEgT",
        "outputId": "443e71d5-4bc5-4c42-bdb8-ed384763db29"
      },
      "execution_count": null,
      "outputs": [
        {
          "output_type": "stream",
          "name": "stdout",
          "text": [
            "1.6197751905438615\n"
          ]
        }
      ]
    }
  ]
}