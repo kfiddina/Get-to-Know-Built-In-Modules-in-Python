{
  "nbformat": 4,
  "nbformat_minor": 0,
  "metadata": {
    "colab": {
      "name": "Pydoc.ipynb",
      "provenance": []
    },
    "kernelspec": {
      "name": "python3",
      "display_name": "Python 3"
    },
    "language_info": {
      "name": "python"
    }
  },
  "cells": [
    {
      "cell_type": "code",
      "execution_count": null,
      "metadata": {
        "id": "WCcODdgJq_gW"
      },
      "outputs": [],
      "source": [
        "c:\\users\\admin>python -m pydoc pass \n",
        "\n",
        "c:\\users\\admin>python /?"
      ]
    }
  ]
}