{
  "nbformat": 4,
  "nbformat_minor": 0,
  "metadata": {
    "colab": {
      "name": "io,os path, os.ipynb",
      "provenance": []
    },
    "kernelspec": {
      "name": "python3",
      "display_name": "Python 3"
    },
    "language_info": {
      "name": "python"
    }
  },
  "cells": [
    {
      "cell_type": "markdown",
      "source": [
        "io"
      ],
      "metadata": {
        "id": "1n2-2g4sZR56"
      }
    },
    {
      "cell_type": "code",
      "execution_count": null,
      "metadata": {
        "id": "lFyNRq7VZMcp"
      },
      "outputs": [],
      "source": [
        "import io"
      ]
    },
    {
      "cell_type": "code",
      "source": [
        "with open('log.txt', 'w') as writeFile:\n",
        "  toLog = input(\"what do you want to write? \")\n",
        "  writeFile.write(toLog)"
      ],
      "metadata": {
        "colab": {
          "base_uri": "https://localhost:8080/"
        },
        "id": "0jlODfNIaFC3",
        "outputId": "a0a5c052-a6d9-4cf8-9f90-1adbcf382e2b"
      },
      "execution_count": null,
      "outputs": [
        {
          "name": "stdout",
          "output_type": "stream",
          "text": [
            "what do you want to write? data science b\n"
          ]
        }
      ]
    },
    {
      "cell_type": "markdown",
      "source": [
        "os path"
      ],
      "metadata": {
        "id": "JFGY6sIwclk6"
      }
    },
    {
      "cell_type": "code",
      "source": [
        "import os\n",
        "\n",
        "if os.path.isfile('log.txt'):\n",
        "  writeFile = open('log.txt', 'a')\n",
        "else: \n",
        "  writeFile = open('log.txt', 'w')\n",
        "\n",
        "toLog = input(\"What do you want to write to the log? \")\n",
        "writeFile.write(\"\\n\" + toLog)\n",
        "writeFile.close()"
      ],
      "metadata": {
        "colab": {
          "base_uri": "https://localhost:8080/"
        },
        "id": "oXlMnPodcn5d",
        "outputId": "60b419e5-b392-4cfe-a0cc-de2c467b27cc"
      },
      "execution_count": null,
      "outputs": [
        {
          "name": "stdout",
          "output_type": "stream",
          "text": [
            "What do you want to write to the log? MyEduSolve\n"
          ]
        }
      ]
    },
    {
      "cell_type": "markdown",
      "source": [
        "os"
      ],
      "metadata": {
        "id": "lM3lvseSfh04"
      }
    },
    {
      "cell_type": "code",
      "source": [
        "import os"
      ],
      "metadata": {
        "id": "SVxT0lI1fg_y"
      },
      "execution_count": null,
      "outputs": []
    },
    {
      "cell_type": "code",
      "source": [
        "dirName = input(\"Enter the name of the folder you want to create? \")\n",
        "os.mkdir(dirName)\n",
        "print(\"Directory created\")"
      ],
      "metadata": {
        "colab": {
          "base_uri": "https://localhost:8080/"
        },
        "id": "Fu-OQ5ItfqPk",
        "outputId": "fb0456a8-118e-4a86-dc0c-275b784542e3"
      },
      "execution_count": null,
      "outputs": [
        {
          "output_type": "stream",
          "name": "stdout",
          "text": [
            "Enter the name of the folder you want to create? Data Science Track\n",
            "Directory created\n"
          ]
        }
      ]
    }
  ]
}