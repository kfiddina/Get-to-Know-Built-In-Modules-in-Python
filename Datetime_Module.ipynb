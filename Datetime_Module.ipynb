{
  "nbformat": 4,
  "nbformat_minor": 0,
  "metadata": {
    "colab": {
      "name": "Datetime Module.ipynb",
      "provenance": [],
      "collapsed_sections": []
    },
    "kernelspec": {
      "name": "python3",
      "display_name": "Python 3"
    },
    "language_info": {
      "name": "python"
    }
  },
  "cells": [
    {
      "cell_type": "markdown",
      "source": [
        "#Datetime Module"
      ],
      "metadata": {
        "id": "6Hpy8fUzHtlR"
      }
    },
    {
      "cell_type": "markdown",
      "source": [
        "The datetime module supplies classes for manipulating dates and times.\n",
        "\n",
        "While date and time arithmetic is supported, the focus of the implementation is on efficient attribute extraction for output formatting and manipulation."
      ],
      "metadata": {
        "id": "QLdhZvdOHpNg"
      }
    },
    {
      "cell_type": "code",
      "source": [
        "import datetime"
      ],
      "metadata": {
        "id": "9pJeZoXo9xPc"
      },
      "execution_count": null,
      "outputs": []
    },
    {
      "cell_type": "code",
      "source": [
        "#A combination of a date and a time. \n",
        "#Attributes: year, month, day, hour, minute, second, microsecond, and tzinfo.\n",
        "todaywithtime = datetime.datetime.today()\n",
        "todaywithtime"
      ],
      "metadata": {
        "id": "RyeiFvBL9xa_",
        "colab": {
          "base_uri": "https://localhost:8080/"
        },
        "outputId": "88ffab63-75e9-4c52-8aa6-5bbec4888239"
      },
      "execution_count": null,
      "outputs": [
        {
          "output_type": "execute_result",
          "data": {
            "text/plain": [
              "datetime.datetime(2022, 4, 10, 4, 37, 44, 159385)"
            ]
          },
          "metadata": {},
          "execution_count": 13
        }
      ]
    },
    {
      "cell_type": "code",
      "source": [
        "#An idealized naive date, assuming the current Gregorian calendar always was, and always will be, in effect.\n",
        "#Attributes: year, month, and day.\n",
        "todaywithouttime = datetime.date.today()\n",
        "todaywithouttime"
      ],
      "metadata": {
        "id": "z1uISc8h9xq0",
        "colab": {
          "base_uri": "https://localhost:8080/"
        },
        "outputId": "a5982f8f-2dad-4d50-b1d2-2d027a30a597"
      },
      "execution_count": null,
      "outputs": [
        {
          "output_type": "execute_result",
          "data": {
            "text/plain": [
              "datetime.date(2022, 4, 10)"
            ]
          },
          "metadata": {},
          "execution_count": 14
        }
      ]
    },
    {
      "cell_type": "code",
      "source": [
        "#An idealized time, independent of any particular day, assuming that every day has exactly 24*60*60 seconds.\n",
        "#Attributes: hour, minute, second, microsecond, and tzinfo.\n",
        "time = datetime.time()\n",
        "print(time)"
      ],
      "metadata": {
        "colab": {
          "base_uri": "https://localhost:8080/"
        },
        "id": "P22XKY3KIw51",
        "outputId": "a50d8f1b-c845-4fe7-cbc8-1076ea3feed8"
      },
      "execution_count": null,
      "outputs": [
        {
          "output_type": "stream",
          "name": "stdout",
          "text": [
            "00:00:00\n"
          ]
        }
      ]
    },
    {
      "cell_type": "code",
      "source": [
        "#Return a string representing the date, controlled by an explicit format string. Format codes referring to hours, minutes or seconds will see 0 values.\n",
        "#For a complete list of formatting directives, see strftime() and strptime() Behavior.\n",
        "formatting_time = datetime.datetime.strftime(todaywithtime, \"%H:%M:%S\")\n",
        "formatting_time"
      ],
      "metadata": {
        "id": "_-hBNUek9xwd",
        "colab": {
          "base_uri": "https://localhost:8080/",
          "height": 35
        },
        "outputId": "1f8c20ad-5586-441c-9cd7-b1904e76b356"
      },
      "execution_count": null,
      "outputs": [
        {
          "output_type": "execute_result",
          "data": {
            "text/plain": [
              "'04:37:44'"
            ],
            "application/vnd.google.colaboratory.intrinsic+json": {
              "type": "string"
            }
          },
          "metadata": {},
          "execution_count": 16
        }
      ]
    },
    {
      "cell_type": "code",
      "source": [
        "formatting_date = datetime.datetime.strftime(todaywithouttime, \"%m/%d/%y\")\n",
        "formatting_date"
      ],
      "metadata": {
        "id": "w2ckkzrP9x1A",
        "colab": {
          "base_uri": "https://localhost:8080/",
          "height": 35
        },
        "outputId": "5c5cb316-04c4-4691-b778-4542d30fa146"
      },
      "execution_count": null,
      "outputs": [
        {
          "output_type": "execute_result",
          "data": {
            "text/plain": [
              "'04/10/22'"
            ],
            "application/vnd.google.colaboratory.intrinsic+json": {
              "type": "string"
            }
          },
          "metadata": {},
          "execution_count": 17
        }
      ]
    }
  ]
}